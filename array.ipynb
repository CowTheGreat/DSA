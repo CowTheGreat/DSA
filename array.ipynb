{
 "cells": [
  {
   "cell_type": "code",
   "execution_count": null,
   "id": "75855d29",
   "metadata": {},
   "outputs": [],
   "source": [
    "arr = [5, 2, 9, 1]\n",
    "\n",
    "print(\"Original:\", arr)\n",
    "arr.append(7)\n",
    "print(\"After append:\", arr)\n",
    "arr.insert(1, 100)\n",
    "print(\"After insert:\", arr)\n",
    "arr.sort()\n",
    "print(\"Sorted:\", arr)\n"
   ]
  }
 ],
 "metadata": {
  "language_info": {
   "name": "python"
  }
 },
 "nbformat": 4,
 "nbformat_minor": 5
}
